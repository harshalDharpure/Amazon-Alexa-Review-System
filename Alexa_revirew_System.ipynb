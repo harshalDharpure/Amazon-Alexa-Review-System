{
  "nbformat": 4,
  "nbformat_minor": 0,
  "metadata": {
    "colab": {
      "private_outputs": true,
      "provenance": [],
      "authorship_tag": "ABX9TyPfoILVxay+XiM84oydW75Z",
      "include_colab_link": true
    },
    "kernelspec": {
      "name": "python3",
      "display_name": "Python 3"
    },
    "language_info": {
      "name": "python"
    }
  },
  "cells": [
    {
      "cell_type": "markdown",
      "metadata": {
        "id": "view-in-github",
        "colab_type": "text"
      },
      "source": [
        "<a href=\"https://colab.research.google.com/github/harshalDharpure/Amazon-Alexa-Review-System/blob/main/Alexa_revirew_System.ipynb\" target=\"_parent\"><img src=\"https://colab.research.google.com/assets/colab-badge.svg\" alt=\"Open In Colab\"/></a>"
      ]
    },
    {
      "cell_type": "code",
      "execution_count": null,
      "metadata": {
        "id": "1pp-5BmrnWVU"
      },
      "outputs": [],
      "source": [
        "import pandas as pd\n",
        "import numpy as np\n",
        "import seaborn as sns\n",
        "import matplotlib.pyplot as plt"
      ]
    },
    {
      "cell_type": "code",
      "source": [
        "data=pd.read_csv('amazon_alexa.tsv',sep=\"\\t\")\n",
        "data.head()"
      ],
      "metadata": {
        "id": "vyonqa-1n3WE"
      },
      "execution_count": null,
      "outputs": []
    },
    {
      "cell_type": "code",
      "source": [
        "##we need to perfoem the exploratory data analysis"
      ],
      "metadata": {
        "id": "VxQHj7QIoBdU"
      },
      "execution_count": null,
      "outputs": []
    },
    {
      "cell_type": "code",
      "source": [
        "columns=[]\n",
        "for i in data.columns:\n",
        "  columns.append(i)\n",
        "columns"
      ],
      "metadata": {
        "id": "xRhrHXROoIeP"
      },
      "execution_count": null,
      "outputs": []
    },
    {
      "cell_type": "code",
      "source": [
        "##to Find the Number of Unique Values\n",
        "for i in columns:\n",
        "  print(\"Nuber of Unique Values in\",i,\"is = \",len(np.unique(data[i])))\n",
        ""
      ],
      "metadata": {
        "id": "xJz104NBoTKX"
      },
      "execution_count": null,
      "outputs": []
    },
    {
      "cell_type": "code",
      "source": [
        "data.isnull().sum() ##to check the Null values in the datasets"
      ],
      "metadata": {
        "id": "DMDWBVNBownN"
      },
      "execution_count": null,
      "outputs": []
    },
    {
      "cell_type": "code",
      "source": [
        "data.describe()"
      ],
      "metadata": {
        "id": "XcQeG0kDo_lh"
      },
      "execution_count": null,
      "outputs": []
    },
    {
      "cell_type": "code",
      "source": [
        "data.info()"
      ],
      "metadata": {
        "id": "8LWL4dcipIC-"
      },
      "execution_count": null,
      "outputs": []
    },
    {
      "cell_type": "code",
      "source": [
        "data.shape"
      ],
      "metadata": {
        "id": "Vm95C83apKDB"
      },
      "execution_count": null,
      "outputs": []
    },
    {
      "cell_type": "code",
      "source": [
        "## we need to delete the date as it does Not add any Values\n",
        "data.drop(labels='date',axis= 1,inplace=True)"
      ],
      "metadata": {
        "id": "ME5xR95ipMu5"
      },
      "execution_count": null,
      "outputs": []
    },
    {
      "cell_type": "code",
      "source": [
        "data.shape"
      ],
      "metadata": {
        "id": "AzchrSabpp-M"
      },
      "execution_count": null,
      "outputs": []
    },
    {
      "cell_type": "code",
      "source": [
        "##we need to perform the data encoding Methods here"
      ],
      "metadata": {
        "id": "XbNBUGAiprkI"
      },
      "execution_count": null,
      "outputs": []
    },
    {
      "cell_type": "code",
      "source": [
        "from sklearn.preprocessing import LabelEncoder\n",
        "data['variation']=LabelEncoder().fit_transform(data['variation'])\n",
        "data.head()\n"
      ],
      "metadata": {
        "id": "9lcWJhRup5nS"
      },
      "execution_count": null,
      "outputs": []
    },
    {
      "cell_type": "code",
      "source": [
        "sns.displot(data,x='rating',legend=True)"
      ],
      "metadata": {
        "id": "eoGBmHJ5qXxc"
      },
      "execution_count": null,
      "outputs": []
    },
    {
      "cell_type": "code",
      "source": [
        "sns.countplot(x='rating',hue=\"variation\",data=data)"
      ],
      "metadata": {
        "id": "mGOmo26sqo4C"
      },
      "execution_count": null,
      "outputs": []
    },
    {
      "cell_type": "code",
      "source": [
        "sns.countplot(x=\"variation\",data=data)"
      ],
      "metadata": {
        "id": "483sv3qrqzx5"
      },
      "execution_count": null,
      "outputs": []
    },
    {
      "cell_type": "code",
      "source": [
        "sns.countplot(x=\"rating\",hue='feedback',data=data)"
      ],
      "metadata": {
        "id": "xOeDS0rkrFCa"
      },
      "execution_count": null,
      "outputs": []
    },
    {
      "cell_type": "code",
      "source": [
        "sns.countplot(x='variation',hue='feedback',data=data)"
      ],
      "metadata": {
        "id": "fow-KY-vrXSM"
      },
      "execution_count": null,
      "outputs": []
    },
    {
      "cell_type": "code",
      "source": [
        "data.drop(labels=[\"variation\",\"rating\"],axis=1,inplace=True)\n"
      ],
      "metadata": {
        "id": "WgY9Jr7Erzb7"
      },
      "execution_count": null,
      "outputs": []
    },
    {
      "cell_type": "code",
      "source": [
        "data.head()"
      ],
      "metadata": {
        "id": "RqlikZVIsEF7"
      },
      "execution_count": null,
      "outputs": []
    },
    {
      "cell_type": "code",
      "source": [
        "total_values=len(data['feedback'])"
      ],
      "metadata": {
        "id": "x-xTeuZ-sGaV"
      },
      "execution_count": null,
      "outputs": []
    },
    {
      "cell_type": "code",
      "source": [
        "print(total_values)"
      ],
      "metadata": {
        "id": "iLCRwcQ1sOMS"
      },
      "execution_count": null,
      "outputs": []
    },
    {
      "cell_type": "code",
      "source": [
        "positive_comment=[]\n",
        "negative_comment=[]\n",
        "for i in data['feedback']:\n",
        "  if i==1:\n",
        "    positive_comment.append(data['feedback'])\n",
        "  else:\n",
        "    negative_comment.append(data['feedback'])\n",
        ""
      ],
      "metadata": {
        "id": "Azg06NIPsQUs"
      },
      "execution_count": null,
      "outputs": []
    },
    {
      "cell_type": "code",
      "source": [
        "print(len(positive_comment))"
      ],
      "metadata": {
        "id": "Km4yb2CBssTE"
      },
      "execution_count": null,
      "outputs": []
    },
    {
      "cell_type": "code",
      "source": [
        "print(len(negative_comment))"
      ],
      "metadata": {
        "id": "QIIt44nasxpI"
      },
      "execution_count": null,
      "outputs": []
    },
    {
      "cell_type": "code",
      "source": [
        "total_value = len(data['feedback'])\n",
        "positive_comment = []\n",
        "negative_comment = []\n",
        "percent_of_positive_comment=(len(positive_comment)/total_value)\n",
        "percent_of_negative_comment=(len(negative_comment)/total_values)\n"
      ],
      "metadata": {
        "id": "oeDls4-Cs5y4"
      },
      "execution_count": null,
      "outputs": []
    },
    {
      "cell_type": "code",
      "source": [
        "total_value = len(data['feedback'])\n",
        "positive_comment = []\n",
        "negative_comment = []\n",
        "\n",
        "for i in data['feedback']:\n",
        "  if i == 1:\n",
        "    positive_comment.append(data['feedback'])\n",
        "  else:\n",
        "    negative_comment.append(data['feedback'])\n",
        "\n",
        "print(len(positive_comment),len(negative_comment))\n",
        "percent_of_positive_comment = (len(positive_comment)/total_value)*100\n",
        "percent_of_negative_comment = (len(negative_comment)/total_value)*100\n",
        "\n",
        "print(\"percentage of positive comment = \",percent_of_positive_comment,\"%\")\n",
        "print(\"percentage of negative comment = \",percent_of_negative_comment,\"%\")\n"
      ],
      "metadata": {
        "id": "iJPK8XI3CrOA"
      },
      "execution_count": null,
      "outputs": []
    },
    {
      "cell_type": "code",
      "source": [
        "sns.countplot(x='feedback',data=data)"
      ],
      "metadata": {
        "id": "RfI9NbuFG0SR"
      },
      "execution_count": null,
      "outputs": []
    },
    {
      "cell_type": "code",
      "source": [
        "##Predicting the feedback comment\n",
        "data.head()"
      ],
      "metadata": {
        "id": "EsSY4GQNHMGr"
      },
      "execution_count": null,
      "outputs": []
    },
    {
      "cell_type": "code",
      "source": [
        "##predicting the feedback to own comment\n",
        "x=data['verified_reviews']"
      ],
      "metadata": {
        "id": "qsnTtGkNHWjw"
      },
      "execution_count": null,
      "outputs": []
    },
    {
      "cell_type": "code",
      "source": [
        "y=data['feedback']"
      ],
      "metadata": {
        "id": "SlyejwHYJzXg"
      },
      "execution_count": null,
      "outputs": []
    },
    {
      "cell_type": "code",
      "source": [
        "from tensorflow import keras\n",
        "from keras.preprocessing.text import Tokenizer"
      ],
      "metadata": {
        "id": "TH7_Rj0HJ3Vk"
      },
      "execution_count": null,
      "outputs": []
    },
    {
      "cell_type": "code",
      "source": [
        "import matplotlib.pyplot as plt\n",
        "from sklearn.model_selection import train_test_split\n",
        "from sklearn.ensemble import RandomForestClassifier\n",
        "from sklearn import metrics\n",
        "from keras.preprocessing.text import Tokenizer\n",
        "from tensorflow.keras.preprocessing.sequence import pad_sequences\n",
        "import numpy as np\n",
        "\n",
        "# Assuming you have defined 'x' and 'y' elsewhere\n",
        "tokenizer = Tokenizer(num_words=15212, lower=False, oov_token='UNK')\n",
        "tokenizer.fit_on_texts(x)\n",
        "\n",
        "x_sequences = tokenizer.texts_to_sequences(x)\n",
        "x_pad = pad_sequences(x_sequences, maxlen=80, padding='post')\n",
        "\n",
        "x_train, x_test, y_train, y_test = train_test_split(x_pad, y, test_size=0.33, random_state=42)\n",
        "\n",
        "randomforest_classifier = RandomForestClassifier(n_estimators=25, criterion='entropy', class_weight={0: 6, 1: 1})\n",
        "randomforest_classifier.fit(x_train, y_train)\n",
        "y_train_predict = randomforest_classifier.predict(x_train)\n",
        "y_predict = randomforest_classifier.predict(x_test)\n",
        "\n",
        "accuracy = metrics.accuracy_score(y_test, y_predict)\n",
        "print(\"Accuracy:\", accuracy)\n",
        "\n",
        "# Plotting the output\n",
        "plt.plot(np.arange(len(x_train)), y_train_predict, label='Predicted')\n",
        "plt.plot(np.arange(len(x_train)), y_train, label='Actual')\n",
        "plt.legend()\n",
        "plt.title('Training Data')\n",
        "plt.show()\n",
        "\n",
        "plt.plot(np.arange(len(x_test)), y_predict, label='Predicted')\n",
        "plt.plot(np.arange(len(x_test)), y_test, label='Actual')\n",
        "plt.legend()\n",
        "plt.title('Testing Data')\n",
        "plt.show()\n"
      ],
      "metadata": {
        "id": "PnE1RXHVKJPf"
      },
      "execution_count": null,
      "outputs": []
    },
    {
      "cell_type": "code",
      "source": [],
      "metadata": {
        "id": "j9Tzb-y2UbWA"
      },
      "execution_count": null,
      "outputs": []
    },
    {
      "cell_type": "code",
      "source": [],
      "metadata": {
        "id": "ITAeHsypUeHH"
      },
      "execution_count": null,
      "outputs": []
    },
    {
      "cell_type": "code",
      "source": [],
      "metadata": {
        "id": "gUAd9JvrURaj"
      },
      "execution_count": null,
      "outputs": []
    },
    {
      "cell_type": "code",
      "source": [],
      "metadata": {
        "id": "Nl9T3srkT3Mv"
      },
      "execution_count": null,
      "outputs": []
    },
    {
      "cell_type": "code",
      "source": [],
      "metadata": {
        "id": "uiN18bt0TLwq"
      },
      "execution_count": null,
      "outputs": []
    },
    {
      "cell_type": "code",
      "source": [],
      "metadata": {
        "id": "at6xXnqeTJpM"
      },
      "execution_count": null,
      "outputs": []
    },
    {
      "cell_type": "code",
      "source": [],
      "metadata": {
        "id": "YDPBso6STGUQ"
      },
      "execution_count": null,
      "outputs": []
    },
    {
      "cell_type": "code",
      "source": [],
      "metadata": {
        "id": "YhR8DlmrSy__"
      },
      "execution_count": null,
      "outputs": []
    },
    {
      "cell_type": "code",
      "source": [
        "! pip install keras-preprocessing"
      ],
      "metadata": {
        "id": "Ad1mibNDSMs-"
      },
      "execution_count": null,
      "outputs": []
    },
    {
      "cell_type": "code",
      "source": [],
      "metadata": {
        "id": "PK9KKOk2So7O"
      },
      "execution_count": null,
      "outputs": []
    },
    {
      "cell_type": "code",
      "source": [],
      "metadata": {
        "id": "fkNHlMWtR8sd"
      },
      "execution_count": null,
      "outputs": []
    },
    {
      "cell_type": "code",
      "source": [],
      "metadata": {
        "id": "rQ6etPUJM9z1"
      },
      "execution_count": null,
      "outputs": []
    },
    {
      "cell_type": "code",
      "source": [],
      "metadata": {
        "id": "cmbTRa0aMJYz"
      },
      "execution_count": null,
      "outputs": []
    },
    {
      "cell_type": "code",
      "source": [],
      "metadata": {
        "id": "IBkWNmgWs2eg"
      },
      "execution_count": null,
      "outputs": []
    },
    {
      "cell_type": "code",
      "source": [],
      "metadata": {
        "id": "7QZ1WM0MsvWT"
      },
      "execution_count": null,
      "outputs": []
    },
    {
      "cell_type": "code",
      "source": [],
      "metadata": {
        "id": "ZGVh_Cm5sBZE"
      },
      "execution_count": null,
      "outputs": []
    },
    {
      "cell_type": "code",
      "source": [],
      "metadata": {
        "id": "IX3U9-N7rAz3"
      },
      "execution_count": null,
      "outputs": []
    },
    {
      "cell_type": "code",
      "source": [],
      "metadata": {
        "id": "vr_UtR3Qq8gf"
      },
      "execution_count": null,
      "outputs": []
    },
    {
      "cell_type": "code",
      "source": [],
      "metadata": {
        "id": "uRjQ0nJhpLPz"
      },
      "execution_count": null,
      "outputs": []
    }
  ]
}